{
 "cells": [
  {
   "cell_type": "markdown",
   "id": "678df900",
   "metadata": {},
   "source": [
    "# TW233MI - Régularisation et optimisation des modèles"
   ]
  },
  {
   "cell_type": "markdown",
   "id": "c203280e",
   "metadata": {},
   "source": [
    "## Lab 4. Regularized Logistic Regression, de A à Z"
   ]
  },
  {
   "cell_type": "markdown",
   "id": "cd4c2582",
   "metadata": {},
   "source": [
    "L'objectif de ce TP est d'étudier et d'implémenter une fonction de coût $L(\\theta)$, associée à un modèle de régression logistique $f_{\\theta}$ et de l'optimiser par l'algorithme de descente de gradient. $\\theta$ dénote ici les paramètres du modèle (modèle dit paramétrique).\n",
    "\n",
    "\n",
    "Nous utiliserons un jeu de données de micropuces provenant d'une usine de fabrication. Pour passer l'assurance qualité (QA), chaque micropuce passe par divers tests pour s'assurer de son bon fonctionnement. Supposons que vous êtes la/le chef.fe de produit de l'usine\n",
    "et vous avez les résultats des tests pour certaines micropuces sur deux tests différents. A partir de ces deux tests $x$,\n",
    "vous souhaitez déterminer si les micropuces doivent être acceptées ou non $y$. Pour vous aider à faire\n",
    "la décision, vous disposez d'un ensemble de données de résultats de tests sur les micropuces passées, à partir duquel vous pouvez construire une régression logistique."
   ]
  },
  {
   "cell_type": "markdown",
   "id": "139ed03c",
   "metadata": {},
   "source": [
    "#### Implémentations à completer\n",
    "- Section 3: Completer la fonction `sigmoid()`: $s(z) = \\frac{1}{1+e^{-z}}$\n",
    "- Section 3: Completer la fonction `predict()` en utilisant la fonction sigmoid et np.dot(x, $\\theta)$=$\\sum_{j=1}^d x_j \\theta_j$.\n",
    "- Section 4: Completer la fonction `computeCostreg()`. \n",
    "- Section 4: Completer la fonction `computeGradreg()`.\n",
    "- Section 4: Completer la fonction `gradDescent()`."
   ]
  },
  {
   "cell_type": "markdown",
   "id": "e76efaf1",
   "metadata": {},
   "source": [
    "### 1. Rappels de cours"
   ]
  },
  {
   "cell_type": "markdown",
   "id": "47fc92a7",
   "metadata": {},
   "source": [
    "Avec la régression logistique,\n",
    "\n",
    "\\begin{equation}\n",
    "    p_{\\theta}(x)=\\mathbb{P}(y=1|x^T \\theta) = sigmoid(x^T \\theta) = \\frac{1}{1+e^{-x^T \\theta}} \\in [0,1]\n",
    "\\end{equation}\n",
    "\n",
    "La frontière de décision séparant les deux classes prédites est la solution de\n",
    "\n",
    "\\begin{equation}\n",
    "    x^T \\theta = 0\n",
    "\\end{equation}\n",
    "\n",
    "La régression logistique apprend les paramètres (ou poids) $\\theta_j$ afin de maximiser la vraisemblance des données, probabilité qui peut s'exprimer comme un produit de distributions de Bernoulli (hypothèse iid):\n",
    "\n",
    "\\begin{equation}\n",
    "    \\mathbb{P}(Y|\\theta) = \\Pi_{i=1}^n p_{\\theta}(x_i)^{y_i}  (1-p_{\\theta}(x_i))^{1-y_i} \n",
    "\\end{equation}\n",
    "\n",
    "où $p_{\\theta}(x_i)$ est la probabilité prédite que $x_i$ appartienne à la première classe, $y_i$ la classe de l'instance $i$ et $n$ le nombre d'instances. Nous définissons une fonction d'erreur (ou de coût)\n",
    "en prenant le logarithme négatif de la vraisemblance et en ajoutant une pénalité sur la norme du vecteur paramètres $\\theta$ (et donc sur la compléxité du modèle):\n",
    "\n",
    "\\begin{equation}\n",
    "    L(\\theta)=-\\frac{1}{n} log(\\mathbb{P}(Y|\\theta)) + \\lambda \\frac{1}{2} ||\\theta||^2 = -\\frac{1}{n} \\sum_{i=1}^n [y_i log(p_{\\theta}(x_i)) + (1-y_i) log(1-p_{\\theta}(x_i))] + \\frac{\\lambda}{2d} \\sum_{j=1}^d \\theta_{j}^2\n",
    "\\end{equation}\n",
    "\n",
    "Ainsi, la régression logistique cherche à trouver les paramètres $\\theta$ qui minimisent la fonction de coût $L(\\theta)$. Une approche itérative consiste à initialiser les paramètres $\\theta$ (aléatoirement) et les apprendre (optimiser) par descente de gradient avec:\n",
    "\n",
    "\\begin{equation}\n",
    "    \\nabla_{\\theta_j} L (\\theta) = \\frac{1}{n} \\sum_{i=1}^n (p_{\\theta}(x_i) - y_i) x_i + \\frac{\\lambda}{d}\\theta_j\n",
    "\\end{equation}\n",
    "\n",
    "Note that you should not regularize the intercept parameter $\\theta_0$ (do as if $\\lambda=0$ for $j=0$)."
   ]
  },
  {
   "cell_type": "markdown",
   "id": "163cb312",
   "metadata": {},
   "source": [
    "### 2. Load and inspect the data"
   ]
  },
  {
   "cell_type": "code",
   "execution_count": 1,
   "id": "bb4c0478",
   "metadata": {},
   "outputs": [],
   "source": [
    "# Load the dataset\n",
    "import numpy as np\n",
    "\n",
    "# Load the microchips dataset\n",
    "data = np.loadtxt('data/microchips.txt', delimiter=',')\n",
    "\n",
    "# Shuffle and split the dataset into a training and testing set.\n",
    "np.random.seed(42)\n",
    "np.random.shuffle(data)\n",
    "n_train = int(0.8 * len(data)) # keep 80% of the dataset to train a model, test on 20%\n",
    "\n",
    "X = data[:n_train, 0:2] # the first two columns contains the exam scores\n",
    "y = data[:n_train, 2] # the third column contains the label (admitted or not)\n",
    "\n",
    "X_test = data[n_train:, 0:2] # the first two columns contains the exam scores\n",
    "y_test = data[n_train:, 2] # the third column contains the label (admitted or not)"
   ]
  },
  {
   "cell_type": "code",
   "execution_count": 2,
   "id": "409cd885",
   "metadata": {},
   "outputs": [
    {
     "data": {
      "image/png": "[encoded data removed]",
      "text/plain": [
       "<Figure size 640x480 with 1 Axes>"
      ]
     },
     "metadata": {},
     "output_type": "display_data"
    }
   ],
   "source": [
    "# Plot the training data \n",
    "import matplotlib.pyplot as plt\n",
    "plt.plot(X[:,0][y == 1], X[:,1][y == 1], 'ro', label=\"c1\")\n",
    "plt.plot(X[:,0][y == 0], X[:,1][y == 0], 'b+', label=\"c2\")\n",
    "plt.xlabel('Microchip Test 1')\n",
    "plt.ylabel('Microchip Test 2')\n",
    "plt.legend(['y = 1', 'y = 0'],numpoints=1)\n",
    "plt.show()"
   ]
  },
  {
   "cell_type": "markdown",
   "id": "cfd66ee7",
   "metadata": {},
   "source": [
    "Une application naïve de la régression logistique ne fonctionnera pas bien sur ce jeu de données, car elle ne peut modéliser qu'une frontière de décision linéaire.\n",
    "Une façon de surmonter cette limitation est de construire de nouvelles caractéristiques à l'aide de polynômes,\n",
    "qui transforment l'espace de départ en un espace linéairement séparable. Ci-dessous, nous fournissons un simple\n",
    "exemple où les caractéristiques sont mappées dans tous les termes polynomiaux de $x_1$ et $x_2$ jusqu'au sixième degré\n",
    "\n",
    "\\begin{equation}\n",
    "    F((x_1,x_2), degree=6) = [1, x_1, x_2, x_1^2, x_2^2, x_1 x_2, ..., x_2^6]\n",
    "\\end{equation}\n",
    "\n",
    "Suite à cette transformation, notre vecteur de caractéristiques $(x_1,x_2)$ a été transformé en un vecteur à 28 dimensions. \n",
    "Cela nous permet de construire un classificateur plus expressif, mais également plus sensible à l'overfitting. Pour éviter le apprentissage, nous allons implémenter la régularisation L2 à la régression logistique et nous verrons comment elle peut aider."
   ]
  },
  {
   "cell_type": "code",
   "execution_count": 3,
   "id": "76caa6d5",
   "metadata": {},
   "outputs": [],
   "source": [
    "def mapFeatures(X, degree = 6):\n",
    "    # Generate a new feature matrix consisting of all polynomial combinations of the features\n",
    "    # with degree less than or equal to the specified degree. \n",
    "    # Note: It works only for two dimensional input features.\n",
    "    \n",
    "    m = 1 + sum(i+1 for i in range(1,degree+1))\n",
    "    n = X.shape[0]\n",
    "    \n",
    "    F = np.ones((n,m))\n",
    "\n",
    "    c = 1\n",
    "    for i in range(1,degree+1):\n",
    "        for j in range(i+1):\n",
    "            F[:,c] = (X[:,0]**(i-j))*(X[:,1]**j)\n",
    "            c += 1 \n",
    "\n",
    "    return F"
   ]
  },
  {
   "cell_type": "code",
   "execution_count": 4,
   "id": "15a4e677",
   "metadata": {},
   "outputs": [],
   "source": [
    "# Generate features\n",
    "# select the max degree of the polynomial features\n",
    "degree = 6\n",
    "X = mapFeatures(X, degree)\n",
    "X_test = mapFeatures(X_test, degree)"
   ]
  },
  {
   "cell_type": "markdown",
   "id": "7d88dbf3",
   "metadata": {},
   "source": [
    "### 3. Implement logistic regression"
   ]
  },
  {
   "cell_type": "code",
   "execution_count": 5,
   "id": "58a51f54",
   "metadata": {},
   "outputs": [],
   "source": [
    "from math import e, pow"
   ]
  },
  {
   "cell_type": "code",
   "execution_count": 6,
   "id": "a83861af",
   "metadata": {},
   "outputs": [],
   "source": [
    "def sigmoid(z):\n",
    "    # Computes the sigmoid of z.\n",
    "    \n",
    "    ### À compléter. Calculer sigmoid(z) ###\n",
    "    # g = \n",
    "    ### ### ### ### ### ### ### ### ### ###\n",
    "    \n",
    "    return g"
   ]
  },
  {
   "cell_type": "code",
   "execution_count": 7,
   "id": "5da0b61a",
   "metadata": {},
   "outputs": [],
   "source": [
    "def predict(theta, X):\n",
    "    # Predict whether the label is 0 or 1 using learned logistic regression parameters theta.\n",
    "    # The threshold is set at 0.5\n",
    "    \n",
    "    n = X.shape[0] # number of training examples\n",
    "    c = np.zeros(n) # predicted classes of training examples\n",
    "    p = np.zeros(n) # logistic regression outputs of training examples\n",
    "    \n",
    "    ### À compléter. Calculer p[i] et c[i] ###\n",
    "    #\n",
    "    #\n",
    "    #\n",
    "    #\n",
    "    #\n",
    "    #\n",
    "    ### ### ### ### ### ### ### ### ### ###\n",
    "    \n",
    "    return c"
   ]
  },
  {
   "cell_type": "markdown",
   "id": "ccdb3156",
   "metadata": {},
   "source": [
    "### 4. Optimize your model"
   ]
  },
  {
   "cell_type": "code",
   "execution_count": 8,
   "id": "e961072c",
   "metadata": {},
   "outputs": [],
   "source": [
    "def computeCostreg(theta, X, y, l, eps=0.00000001): \n",
    "    # Computes the cost of using theta as the parameter for logistic regression. \n",
    "    \n",
    "    n = X.shape[0] # number of training examples\n",
    "    L = 0\n",
    "    \n",
    "    ### À compléter. Calculer la fonction de coût L associée à theta, X et y ###\n",
    "    #\n",
    "    #\n",
    "    ### ### ### ### ### ### ### ### ### ###\n",
    "    \n",
    "    return L"
   ]
  },
  {
   "cell_type": "code",
   "execution_count": 9,
   "id": "45a24198",
   "metadata": {},
   "outputs": [],
   "source": [
    "def computeGradreg(theta, X, y, l):\n",
    "    # Computes the gradient of the cost with respect to the parameters.\n",
    "    \n",
    "    n, d = X.shape # number of training examples\n",
    "    p = sigmoid(np.dot(X,theta))\n",
    "    delta = p - y.reshape(-1,1)\n",
    "    \n",
    "    grad = np.zeros(d) # initialize gradient\n",
    "    ### À compléter. Calculer le gradient de la fonction de coût par rapport à theta ###\n",
    "    #\n",
    "    #\n",
    "    #\n",
    "    ### ### ### ### ### ### ### ### ### ###    \n",
    "\n",
    "    return (1.0 / n) *grad"
   ]
  },
  {
   "cell_type": "markdown",
   "id": "aa730ad6",
   "metadata": {},
   "source": [
    "#### Optimisation par descente de gradient"
   ]
  },
  {
   "cell_type": "code",
   "execution_count": 10,
   "id": "7caa2f18",
   "metadata": {},
   "outputs": [],
   "source": [
    "# Regularization factor\n",
    "# Select the regularization parameter\n",
    "ld = 1.0"
   ]
  },
  {
   "cell_type": "markdown",
   "id": "23d27019",
   "metadata": {},
   "source": [
    "We initialize parameter $\\theta$ with zero and will minimize the value of the `computeCost()` function, with respect to the parameter $\\theta$, using the `computeGrad()` function, that computes the gradient of the cost function. The function returns the learned values of parameter $\\theta$"
   ]
  },
  {
   "cell_type": "code",
   "execution_count": 11,
   "id": "15873843",
   "metadata": {},
   "outputs": [],
   "source": [
    "def gradDescent(X, y, ld, lr = 1.0, n_iter = 1000):\n",
    "    # Returns logistic regression parameters theta, learned by gradient descent on X,y\n",
    "    \n",
    "    # Initialize parameters \n",
    "    theta = np.zeros((X.shape[1],1))\n",
    "    print(\"Initial loss\", computeCostreg(theta, X, y, ld))\n",
    "    for k in range(n_iter):\n",
    "        \n",
    "        ### À compléter. Implémenter une itération de algorithme de descente de gradient ###\n",
    "        #\n",
    "        ### ### ### ### ### ### ### ### ### ###\n",
    "\n",
    "    print(\"Final loss\", computeCostreg(theta, X, y, ld))\n",
    "    return theta"
   ]
  },
  {
   "cell_type": "code",
   "execution_count": 12,
   "id": "021ed6d1",
   "metadata": {},
   "outputs": [
    {
     "name": "stdout",
     "output_type": "stream",
     "text": [
      "Initial loss [[0.69314718]]\n",
      "Final loss [[0.52686059]]\n"
     ]
    },
    {
     "data": {
      "text/plain": [
       "(28, 1)"
      ]
     },
     "execution_count": 12,
     "metadata": {},
     "output_type": "execute_result"
    }
   ],
   "source": [
    "theta = gradDescent(X, y, ld, n_iter = 1000)\n",
    "theta.shape"
   ]
  },
  {
   "cell_type": "markdown",
   "id": "2e871e0e",
   "metadata": {},
   "source": [
    "### 5. Analyser les resultats"
   ]
  },
  {
   "cell_type": "code",
   "execution_count": 13,
   "id": "25c3a406",
   "metadata": {},
   "outputs": [],
   "source": [
    "def plotBoundary(X, y, degree, theta):\n",
    "\n",
    "    #Plot Boundary\n",
    "    u = np.linspace(-1,1, 100)\n",
    "    v = np.linspace(-1,1, 100)\n",
    "    z = np.zeros(shape=(len(u), len(v)))\n",
    "    for i in range(len(u)):\n",
    "        for j in range(len(v)):\n",
    "            z[i, j] = sigmoid( (mapFeatures(np.array([[u[i],v[j]]]),degree)).dot(theta) )\n",
    "\n",
    "    plt.figure(1, figsize=(10,5))\n",
    "    \n",
    "    plt.subplot(121)\n",
    "    plt.plot(X[:,1][y == 1], X[:,2][y == 1], 'ro', label=\"c1\")\n",
    "    plt.plot(X[:,1][y == 0], X[:,2][y == 0], 'b+', label=\"c2\")\n",
    "    plt.xlim(-1,1)\n",
    "    plt.ylim(-1,1)\n",
    "    plt.xlabel('Microchip Test 1')\n",
    "    plt.ylabel('Microchip Test 2')\n",
    "    plt.legend(['y = 1', 'y = 0'], numpoints = 1)\n",
    "    \n",
    "    plt.subplot(122)\n",
    "    plt.imshow(z, cmap=\"cool\")\n",
    "    plt.xlim(0,100)\n",
    "    plt.ylim(0,100)\n",
    "    \n",
    "    plt.show()\n"
   ]
  },
  {
   "cell_type": "code",
   "execution_count": 14,
   "id": "bff9f946",
   "metadata": {},
   "outputs": [
    {
     "data": {
      "image/png": "[encoded data removed]",
      "text/plain": [
       "<Figure size 1000x500 with 2 Axes>"
      ]
     },
     "metadata": {},
     "output_type": "display_data"
    }
   ],
   "source": [
    "# Plot the decision boundary (on the training set)\n",
    "plotBoundary(X, y, degree, theta)"
   ]
  },
  {
   "cell_type": "code",
   "execution_count": 15,
   "id": "6521931e",
   "metadata": {},
   "outputs": [
    {
     "name": "stdout",
     "output_type": "stream",
     "text": [
      "Train Accuracy: 85.106383\n"
     ]
    }
   ],
   "source": [
    "# Compute accuracy (on the training set)\n",
    "p = predict(np.array(theta), X)\n",
    "counter = 0\n",
    "for i in range(y.size):\n",
    "    if p[i] == y[i]:\n",
    "        counter += 1\n",
    "print ('Train Accuracy: %f' % (counter / float(y.size) * 100.0))"
   ]
  },
  {
   "cell_type": "code",
   "execution_count": 16,
   "id": "3dd56317",
   "metadata": {},
   "outputs": [
    {
     "name": "stdout",
     "output_type": "stream",
     "text": [
      "Testing Accuracy: 75.000000\n"
     ]
    }
   ],
   "source": [
    "# Compute accuracy (on the testing set)\n",
    "p = predict(np.array(theta), X_test)\n",
    "counter = 0\n",
    "for i in range(y_test.size):\n",
    "    if p[i] == y_test[i]:\n",
    "        counter += 1\n",
    "print ('Testing Accuracy: %f' % (counter / float(y_test.size) * 100.0))"
   ]
  },
  {
   "cell_type": "code",
   "execution_count": 17,
   "id": "0fec3d91",
   "metadata": {},
   "outputs": [],
   "source": [
    "### À tester: Try out different regularization parameters (lambda) and polynomial degrees (degree) for the dataset \n",
    "# to understand how regularization prevents over-fitting. Notice the changes in the decision boundary as you vary\n",
    "# regularize parameter, as well as the training and testing accuracy."
   ]
  },
  {
   "cell_type": "code",
   "execution_count": null,
   "id": "96a54cd4",
   "metadata": {},
   "outputs": [],
   "source": []
  }
 ],
 "metadata": {
  "kernelspec": {
   "display_name": "Python 3 (ipykernel)",
   "language": "python",
   "name": "python3"
  },
  "language_info": {
   "codemirror_mode": {
    "name": "ipython",
    "version": 3
   },
   "file_extension": ".py",
   "mimetype": "text/x-python",
   "name": "python",
   "nbconvert_exporter": "python",
   "pygments_lexer": "ipython3",
   "version": "3.8.13"
  }
 },
 "nbformat": 4,
 "nbformat_minor": 5
}
